{
 "cells": [
  {
   "cell_type": "markdown",
   "id": "c5ecfe63",
   "metadata": {},
   "source": [
    "# BERTopic Short Demo"
   ]
  },
  {
   "cell_type": "markdown",
   "id": "e38cfece",
   "metadata": {},
   "source": [
    "For this workshop, you likely won't have the following packages installed. Following cell installs all the packages you will need."
   ]
  },
  {
   "cell_type": "code",
   "execution_count": null,
   "id": "7b25c370",
   "metadata": {},
   "outputs": [
    {
     "name": "stdout",
     "output_type": "stream",
     "text": [
      "Requirement already satisfied: scikit-learn in c:\\users\\xtc3853\\appdata\\local\\miniforge3\\envs\\nlp-practice\\lib\\site-packages (1.6.1)\n",
      "Requirement already satisfied: bertopic in c:\\users\\xtc3853\\appdata\\local\\miniforge3\\envs\\nlp-practice\\lib\\site-packages (0.16.2)\n",
      "Requirement already satisfied: sentence-transformers in c:\\users\\xtc3853\\appdata\\local\\miniforge3\\envs\\nlp-practice\\lib\\site-packages (3.4.1)\n",
      "Requirement already satisfied: umap-learn in c:\\users\\xtc3853\\appdata\\local\\miniforge3\\envs\\nlp-practice\\lib\\site-packages (0.5.7)\n",
      "Requirement already satisfied: hdbscan in c:\\users\\xtc3853\\appdata\\local\\miniforge3\\envs\\nlp-practice\\lib\\site-packages (0.8.39)\n",
      "Requirement already satisfied: numpy>=1.19.5 in c:\\users\\xtc3853\\appdata\\local\\miniforge3\\envs\\nlp-practice\\lib\\site-packages (from scikit-learn) (1.26.4)\n",
      "Requirement already satisfied: scipy>=1.6.0 in c:\\users\\xtc3853\\appdata\\local\\miniforge3\\envs\\nlp-practice\\lib\\site-packages (from scikit-learn) (1.13.1)\n",
      "Requirement already satisfied: joblib>=1.2.0 in c:\\users\\xtc3853\\appdata\\local\\miniforge3\\envs\\nlp-practice\\lib\\site-packages (from scikit-learn) (1.4.2)\n",
      "Requirement already satisfied: threadpoolctl>=3.1.0 in c:\\users\\xtc3853\\appdata\\local\\miniforge3\\envs\\nlp-practice\\lib\\site-packages (from scikit-learn) (3.5.0)\n",
      "Requirement already satisfied: pandas>=1.1.5 in c:\\users\\xtc3853\\appdata\\local\\miniforge3\\envs\\nlp-practice\\lib\\site-packages (from bertopic) (2.2.3)\n",
      "Requirement already satisfied: tqdm>=4.41.1 in c:\\users\\xtc3853\\appdata\\local\\miniforge3\\envs\\nlp-practice\\lib\\site-packages (from bertopic) (4.67.1)\n",
      "Requirement already satisfied: plotly>=4.7.0 in c:\\users\\xtc3853\\appdata\\local\\miniforge3\\envs\\nlp-practice\\lib\\site-packages (from bertopic) (5.24.1)\n",
      "Requirement already satisfied: transformers<5.0.0,>=4.41.0 in c:\\users\\xtc3853\\appdata\\local\\miniforge3\\envs\\nlp-practice\\lib\\site-packages (from sentence-transformers) (4.49.0)\n",
      "Requirement already satisfied: torch>=1.11.0 in c:\\users\\xtc3853\\appdata\\local\\miniforge3\\envs\\nlp-practice\\lib\\site-packages (from sentence-transformers) (2.6.0)\n",
      "Requirement already satisfied: huggingface-hub>=0.20.0 in c:\\users\\xtc3853\\appdata\\local\\miniforge3\\envs\\nlp-practice\\lib\\site-packages (from sentence-transformers) (0.29.2)\n",
      "Requirement already satisfied: Pillow in c:\\users\\xtc3853\\appdata\\local\\miniforge3\\envs\\nlp-practice\\lib\\site-packages (from sentence-transformers) (11.1.0)\n",
      "Requirement already satisfied: numba>=0.51.2 in c:\\users\\xtc3853\\appdata\\local\\miniforge3\\envs\\nlp-practice\\lib\\site-packages (from umap-learn) (0.61.0)\n",
      "Requirement already satisfied: pynndescent>=0.5 in c:\\users\\xtc3853\\appdata\\local\\miniforge3\\envs\\nlp-practice\\lib\\site-packages (from umap-learn) (0.5.10)\n",
      "Requirement already satisfied: filelock in c:\\users\\xtc3853\\appdata\\local\\miniforge3\\envs\\nlp-practice\\lib\\site-packages (from huggingface-hub>=0.20.0->sentence-transformers) (3.13.1)\n",
      "Requirement already satisfied: fsspec>=2023.5.0 in c:\\users\\xtc3853\\appdata\\local\\miniforge3\\envs\\nlp-practice\\lib\\site-packages (from huggingface-hub>=0.20.0->sentence-transformers) (2024.12.0)\n",
      "Requirement already satisfied: packaging>=20.9 in c:\\users\\xtc3853\\appdata\\roaming\\python\\python312\\site-packages (from huggingface-hub>=0.20.0->sentence-transformers) (23.2)\n",
      "Requirement already satisfied: pyyaml>=5.1 in c:\\users\\xtc3853\\appdata\\local\\miniforge3\\envs\\nlp-practice\\lib\\site-packages (from huggingface-hub>=0.20.0->sentence-transformers) (6.0.2)\n",
      "Requirement already satisfied: requests in c:\\users\\xtc3853\\appdata\\local\\miniforge3\\envs\\nlp-practice\\lib\\site-packages (from huggingface-hub>=0.20.0->sentence-transformers) (2.32.3)\n",
      "Requirement already satisfied: typing-extensions>=3.7.4.3 in c:\\users\\xtc3853\\appdata\\local\\miniforge3\\envs\\nlp-practice\\lib\\site-packages (from huggingface-hub>=0.20.0->sentence-transformers) (4.12.2)\n",
      "Requirement already satisfied: llvmlite<0.45,>=0.44.0dev0 in c:\\users\\xtc3853\\appdata\\local\\miniforge3\\envs\\nlp-practice\\lib\\site-packages (from numba>=0.51.2->umap-learn) (0.44.0)\n",
      "Requirement already satisfied: python-dateutil>=2.8.2 in c:\\users\\xtc3853\\appdata\\roaming\\python\\python312\\site-packages (from pandas>=1.1.5->bertopic) (2.8.2)\n",
      "Requirement already satisfied: pytz>=2020.1 in c:\\users\\xtc3853\\appdata\\local\\miniforge3\\envs\\nlp-practice\\lib\\site-packages (from pandas>=1.1.5->bertopic) (2024.1)\n",
      "Requirement already satisfied: tzdata>=2022.7 in c:\\users\\xtc3853\\appdata\\local\\miniforge3\\envs\\nlp-practice\\lib\\site-packages (from pandas>=1.1.5->bertopic) (2023.3)\n",
      "Requirement already satisfied: tenacity>=6.2.0 in c:\\users\\xtc3853\\appdata\\local\\miniforge3\\envs\\nlp-practice\\lib\\site-packages (from plotly>=4.7.0->bertopic) (9.0.0)\n",
      "Requirement already satisfied: setuptools in c:\\users\\xtc3853\\appdata\\local\\miniforge3\\envs\\nlp-practice\\lib\\site-packages (from torch>=1.11.0->sentence-transformers) (75.8.2)\n",
      "Requirement already satisfied: sympy!=1.13.2,>=1.13.1 in c:\\users\\xtc3853\\appdata\\local\\miniforge3\\envs\\nlp-practice\\lib\\site-packages (from torch>=1.11.0->sentence-transformers) (1.13.3)\n",
      "Requirement already satisfied: networkx in c:\\users\\xtc3853\\appdata\\local\\miniforge3\\envs\\nlp-practice\\lib\\site-packages (from torch>=1.11.0->sentence-transformers) (3.4.2)\n",
      "Requirement already satisfied: jinja2 in c:\\users\\xtc3853\\appdata\\local\\miniforge3\\envs\\nlp-practice\\lib\\site-packages (from torch>=1.11.0->sentence-transformers) (3.1.6)\n",
      "Requirement already satisfied: colorama in c:\\users\\xtc3853\\appdata\\roaming\\python\\python312\\site-packages (from tqdm>=4.41.1->bertopic) (0.4.6)\n",
      "Requirement already satisfied: regex!=2019.12.17 in c:\\users\\xtc3853\\appdata\\local\\miniforge3\\envs\\nlp-practice\\lib\\site-packages (from transformers<5.0.0,>=4.41.0->sentence-transformers) (2024.11.6)\n",
      "Requirement already satisfied: tokenizers<0.22,>=0.21 in c:\\users\\xtc3853\\appdata\\local\\miniforge3\\envs\\nlp-practice\\lib\\site-packages (from transformers<5.0.0,>=4.41.0->sentence-transformers) (0.21.0)\n",
      "Requirement already satisfied: safetensors>=0.4.1 in c:\\users\\xtc3853\\appdata\\local\\miniforge3\\envs\\nlp-practice\\lib\\site-packages (from transformers<5.0.0,>=4.41.0->sentence-transformers) (0.5.3)\n",
      "Requirement already satisfied: six>=1.5 in c:\\users\\xtc3853\\appdata\\roaming\\python\\python312\\site-packages (from python-dateutil>=2.8.2->pandas>=1.1.5->bertopic) (1.16.0)\n",
      "Requirement already satisfied: mpmath<1.4,>=1.1.0 in c:\\users\\xtc3853\\appdata\\local\\miniforge3\\envs\\nlp-practice\\lib\\site-packages (from sympy!=1.13.2,>=1.13.1->torch>=1.11.0->sentence-transformers) (1.3.0)\n",
      "Requirement already satisfied: MarkupSafe>=2.0 in c:\\users\\xtc3853\\appdata\\local\\miniforge3\\envs\\nlp-practice\\lib\\site-packages (from jinja2->torch>=1.11.0->sentence-transformers) (3.0.2)\n",
      "Requirement already satisfied: charset_normalizer<4,>=2 in c:\\users\\xtc3853\\appdata\\local\\miniforge3\\envs\\nlp-practice\\lib\\site-packages (from requests->huggingface-hub>=0.20.0->sentence-transformers) (3.4.1)\n",
      "Requirement already satisfied: idna<4,>=2.5 in c:\\users\\xtc3853\\appdata\\local\\miniforge3\\envs\\nlp-practice\\lib\\site-packages (from requests->huggingface-hub>=0.20.0->sentence-transformers) (3.10)\n",
      "Requirement already satisfied: urllib3<3,>=1.21.1 in c:\\users\\xtc3853\\appdata\\local\\miniforge3\\envs\\nlp-practice\\lib\\site-packages (from requests->huggingface-hub>=0.20.0->sentence-transformers) (2.3.0)\n",
      "Requirement already satisfied: certifi>=2017.4.17 in c:\\users\\xtc3853\\appdata\\local\\miniforge3\\envs\\nlp-practice\\lib\\site-packages (from requests->huggingface-hub>=0.20.0->sentence-transformers) (2025.1.31)\n"
     ]
    }
   ],
   "source": [
    "!pip install scikit-learn sentence-transformers umap-learn hdbscan bertopic"
   ]
  },
  {
   "cell_type": "markdown",
   "id": "8ed3649d",
   "metadata": {},
   "source": [
    "### Read and Preprocess Data"
   ]
  },
  {
   "cell_type": "code",
   "execution_count": null,
   "id": "2ee9b712",
   "metadata": {},
   "outputs": [],
   "source": [
    "from sklearn.datasets import fetch_20newsgroups\n",
    "import pandas as pd\n",
    "\n",
    "# this is a function from sklearn that fetches the 20 newsgroups text dataset\n",
    "# it is a collection of approximately 20,000 newsgroup documents, partitioned across 20 different newsgroups\n",
    "# this returns a bunch object, which is very similar to a dictionary\n",
    "bunch = fetch_20newsgroups(\n",
    "    categories=[\"comp.graphics\", \"rec.autos\", \"rec.motorcycles\", \n",
    "                \"rec.sport.baseball\", \"rec.sport.hockey\", \n",
    "                \"sci.electronics\", \"sci.med\", \"sci.space\"], # only extract select topics\n",
    "    remove=(\"headers\",\"footers\",\"quotes\")) # don't extract unnecessary metadata\n",
    "\n",
    "# get the text data and labels\n",
    "docs = bunch[\"data\"]\n",
    "doc_labels = bunch[\"target\"]\n",
    "\n",
    "print(\"Documents: \")\n",
    "print(docs[:5])\n",
    "\n",
    "# create a data frame with the text and labels\n",
    "df = pd.DataFrame({\n",
    "    \"text\": docs,\n",
    "    \"labels\": doc_labels\n",
    "})\n",
    "\n",
    "# create a label with text info\n",
    "df[\"labels_text\"] = df[\"labels\"].astype(\"category\").cat.rename_categories({i:j for i,j in enumerate(bunch[\"target_names\"])})\n",
    "\n",
    "print()\n",
    "print(\"Data Frame: \")\n",
    "print(df.head())"
   ]
  },
  {
   "cell_type": "markdown",
   "id": "2651fff8",
   "metadata": {},
   "source": [
    "Before applying topic modeling to the text, we should do a basic preprocessing, mainly stripping of newlines and removing empty texts."
   ]
  },
  {
   "cell_type": "code",
   "execution_count": null,
   "id": "5300717b",
   "metadata": {},
   "outputs": [],
   "source": [
    "# strip blank characters\n",
    "df[\"text_processed\"] = df[\"text\"].str.strip()\n",
    "\n",
    "# remove empty text from data frame\n",
    "empty_text_bool =  df[\"text_processed\"].str.len() == 0\n",
    "\n",
    "print(f\"Number of empty texts: {empty_text_bool.sum()}\")\n",
    "\n",
    "# remove empty text from df\n",
    "df = df[~empty_text_bool]\n",
    "\n",
    "print(\"Final Data Frame:\")\n",
    "print(f\"Dimension: {df.shape[0]}, {df.shape[1]}\")\n",
    "df.head()"
   ]
  },
  {
   "cell_type": "code",
   "execution_count": null,
   "id": "e71c0271",
   "metadata": {},
   "outputs": [],
   "source": [
    "# store the texts into docs variable\n",
    "docs = df[\"text_processed\"].values.tolist()"
   ]
  },
  {
   "cell_type": "code",
   "execution_count": null,
   "id": "087b2331",
   "metadata": {},
   "outputs": [],
   "source": [
    "print(docs[:5])"
   ]
  },
  {
   "cell_type": "markdown",
   "id": "ec5d4a35",
   "metadata": {},
   "source": [
    "### Simplest case"
   ]
  },
  {
   "cell_type": "markdown",
   "id": "984ed7ca",
   "metadata": {},
   "source": [
    "BERTopic can be run out of the box without any tuning. However, this doesn't guarantee the best number of topics and representation for each topic."
   ]
  },
  {
   "cell_type": "code",
   "execution_count": null,
   "id": "a6d9ed88",
   "metadata": {},
   "outputs": [],
   "source": [
    "from bertopic import BERTopic\n",
    "\n",
    "topic_model = BERTopic() # initialize the model\n",
    "topic_model.fit(docs) # fit the model to the data\n",
    "\n",
    "topic_model.get_topic_info() # get the topic information"
   ]
  },
  {
   "cell_type": "markdown",
   "id": "28592a02",
   "metadata": {},
   "source": [
    "### Embeddings"
   ]
  },
  {
   "cell_type": "code",
   "execution_count": null,
   "id": "fb5a74fb",
   "metadata": {},
   "outputs": [],
   "source": [
    "from sentence_transformers import SentenceTransformer\n",
    "\n",
    "# initialize model\n",
    "embedding_model = SentenceTransformer(\"all-MiniLM-L6-v2\") # all-MiniLM-L6-v2 is name of pretrained model\n",
    "embeddings = embedding_model.encode(docs) # encode the texts into embeddings"
   ]
  },
  {
   "cell_type": "code",
   "execution_count": null,
   "id": "df5fe210",
   "metadata": {},
   "outputs": [],
   "source": [
    "print(\"Dimension of embeddings: \")\n",
    "print(embeddings.shape)\n",
    "print()\n",
    "print(embeddings)"
   ]
  },
  {
   "cell_type": "markdown",
   "id": "0ab168fc",
   "metadata": {},
   "source": [
    "### Dimension Reduction"
   ]
  },
  {
   "cell_type": "code",
   "execution_count": null,
   "id": "772fcca2",
   "metadata": {},
   "outputs": [],
   "source": [
    "from umap import UMAP\n",
    "import umap.plot\n",
    "\n",
    "# set random seed for reproducibility\n",
    "seed = 54382\n",
    "# initialize UMAP model\n",
    "umap_model = UMAP(n_components=2, n_neighbors = 15, metric=\"cosine\", random_state=seed)\n",
    "# fit the UMAP model to find the best 2D representation of the embeddings\n",
    "umap_model.fit(embeddings)"
   ]
  },
  {
   "cell_type": "code",
   "execution_count": null,
   "id": "782a9393",
   "metadata": {},
   "outputs": [],
   "source": [
    "print(\"Dimension of UMAP output: \")\n",
    "print(umap_model.embedding_.shape)"
   ]
  },
  {
   "cell_type": "code",
   "execution_count": null,
   "id": "d273eb33",
   "metadata": {},
   "outputs": [],
   "source": [
    "# Plot the UMAP representation\n",
    "umap.plot.points(umap_model)"
   ]
  },
  {
   "cell_type": "markdown",
   "id": "63cb0374",
   "metadata": {},
   "source": [
    "### Unsupervised Clustering"
   ]
  },
  {
   "cell_type": "code",
   "execution_count": null,
   "id": "61384414",
   "metadata": {},
   "outputs": [],
   "source": [
    "from hdbscan import HDBSCAN\n",
    "import matplotlib.pyplot as plt\n",
    "\n",
    "# initialize HDBSCAN model\n",
    "hdbscan_model = HDBSCAN(min_cluster_size=15, min_samples=1, cluster_selection_epsilon=0.165)\n",
    "\n",
    "# identify clusters on the 2-d representation of embeddings generated by UMAP\n",
    "hdbscan_model.fit(umap_model.embedding_)\n",
    "umap.plot.points(umap_model, labels=hdbscan_model.labels_, theme=\"blue\")"
   ]
  },
  {
   "cell_type": "markdown",
   "id": "c068f314",
   "metadata": {},
   "source": [
    "### Labeling"
   ]
  },
  {
   "cell_type": "code",
   "execution_count": null,
   "id": "3122454f",
   "metadata": {},
   "outputs": [],
   "source": [
    "from keybert import KeyBERT\n",
    "import numpy as np\n",
    "\n",
    "# initialize the model; can use the same LM as we used for embeddings\n",
    "rep_model = KeyBERT(model='all-MiniLM-L6-v2')\n",
    "\n",
    "# loop through the clusters and get the labels (as BERTopic would do)\n",
    "for label in np.unique(hdbscan_model.labels_):\n",
    "    # Get docs in this cluster\n",
    "    cluster_docs = [doc for doc, c in zip(docs, hdbscan_model.labels_) if c == label]\n",
    "    # Combine documents into a single string\n",
    "    combined_text = ' '.join(cluster_docs)\n",
    "    # Extract keywords\n",
    "    keywords = rep_model.extract_keywords(combined_text, top_n=5)\n",
    "    # print the results \n",
    "    # Note: KeyBERT returns a tuple with the (word, numer), where the number is:\n",
    "    #   the relevance score, i.e., the cosine similarity between the embedding of the keyword and the original doc\n",
    "    print(label, [kw[0] for kw in keywords])"
   ]
  },
  {
   "cell_type": "markdown",
   "id": "ee0bbb79",
   "metadata": {},
   "source": [
    "## Combine All Steps with BERTopic"
   ]
  },
  {
   "cell_type": "code",
   "execution_count": null,
   "id": "beec9623",
   "metadata": {},
   "outputs": [],
   "source": [
    "from bertopic.representation import KeyBERTInspired\n",
    "\n",
    "# set random seed for reproducibility\n",
    "seed = 54382\n",
    "\n",
    "# embedding model\n",
    "embedding_model = SentenceTransformer(\"all-MiniLM-L6-v2\") # all-MiniLM-L6-v2 is name of pretrained model\n",
    "\n",
    "# umap model\n",
    "umap_model = UMAP(n_components=2, n_neighbors = 15, metric=\"cosine\", random_state=seed)\n",
    "\n",
    "# initialize HDBSCAN model\n",
    "hdbscan_model = HDBSCAN(min_cluster_size=15, min_samples=1, cluster_selection_epsilon=0.165)\n",
    "\n",
    "# representation model\n",
    "representation_model = KeyBERTInspired()\n",
    "\n",
    "# define the BERTopic model using the models above\n",
    "topic_model = BERTopic(\n",
    "    embedding_model=embedding_model,\n",
    "    umap_model=umap_model,\n",
    "    hdbscan_model=hdbscan_model,\n",
    "    representation_model=representation_model,\n",
    "    verbose=True\n",
    ")\n",
    "\n",
    "# fit the model to the data\n",
    "topic_model.fit(docs) \n",
    "\n",
    "# get the topic information\n",
    "topic_model.get_topic_info() "
   ]
  },
  {
   "cell_type": "code",
   "execution_count": null,
   "id": "3d3489b5",
   "metadata": {},
   "outputs": [],
   "source": []
  },
  {
   "cell_type": "code",
   "execution_count": null,
   "id": "23f6732d",
   "metadata": {},
   "outputs": [],
   "source": []
  },
  {
   "cell_type": "code",
   "execution_count": null,
   "id": "7416dd56",
   "metadata": {},
   "outputs": [],
   "source": []
  },
  {
   "cell_type": "code",
   "execution_count": null,
   "id": "58650d79",
   "metadata": {},
   "outputs": [],
   "source": []
  }
 ],
 "metadata": {
  "kernelspec": {
   "display_name": "nlp-practice",
   "language": "python",
   "name": "python3"
  },
  "language_info": {
   "codemirror_mode": {
    "name": "ipython",
    "version": 3
   },
   "file_extension": ".py",
   "mimetype": "text/x-python",
   "name": "python",
   "nbconvert_exporter": "python",
   "pygments_lexer": "ipython3",
   "version": "3.12.9"
  }
 },
 "nbformat": 4,
 "nbformat_minor": 5
}
