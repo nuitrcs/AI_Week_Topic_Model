{
 "cells": [
  {
   "cell_type": "markdown",
   "id": "88b2235c",
   "metadata": {},
   "source": [
    "# News Headlines Dataset in BERTopic\n",
    "\n",
    "This is a template for using the News Headlines dataset in BERTopic.  Please attempt to create a notebook yourself before using this!  And note that this is a very basic template; you will likely want to clean the data, change model parameters, visualize your results, and iterate before you decide on a final model to share."
   ]
  },
  {
   "cell_type": "code",
   "execution_count": null,
   "id": "c4830bbc",
   "metadata": {},
   "outputs": [],
   "source": [
    "# imports\n",
    "import pandas as pd\n",
    "from bertopic import BERTopic\n",
    "from sentence_transformers import SentenceTransformer\n",
    "from umap import UMAP\n",
    "from hdbscan import HDBSCAN\n",
    "from bertopic.representation import KeyBERTInspired"
   ]
  },
  {
   "cell_type": "code",
   "execution_count": null,
   "id": "edd065a4",
   "metadata": {},
   "outputs": [],
   "source": [
    "# read in the data and select the column of interest\n",
    "df = pd.read_csv(\"hf://datasets/valurank/News_headlines/final_headline_train_12000.csv\")\n",
    "print(df.columns)\n",
    "print(len(df))\n",
    "docs = df['headline'].to_list()\n",
    "print(docs[:5])"
   ]
  },
  {
   "cell_type": "code",
   "execution_count": null,
   "id": "bc16dfb2",
   "metadata": {},
   "outputs": [],
   "source": [
    "# define default models and parameters\n",
    "embedding_model = SentenceTransformer(\"all-MiniLM-L6-v2\")\n",
    "dimension_reduction_model = UMAP(n_components=2, n_neighbors = 15, metric=\"cosine\", random_state=54382)\n",
    "clustering_model = HDBSCAN(min_cluster_size=15, min_samples=1, cluster_selection_epsilon=0.165)\n",
    "representation_model = KeyBERTInspired()\n",
    "\n",
    "# define topic model pipeline with BERTopic\n",
    "topic_model = BERTopic(\n",
    "    embedding_model=embedding_model,\n",
    "    umap_model=dimension_reduction_model,\n",
    "    hdbscan_model=clustering_model,\n",
    "    representation_model=representation_model\n",
    ")\n",
    "\n",
    "# fit the model to the docs\n",
    "topic_model.fit(docs)"
   ]
  },
  {
   "cell_type": "code",
   "execution_count": null,
   "id": "9a92b354",
   "metadata": {},
   "outputs": [],
   "source": [
    "# print the resulting topics\n",
    "topic_model.get_topic_info()"
   ]
  },
  {
   "cell_type": "code",
   "execution_count": null,
   "id": "a70762fd",
   "metadata": {},
   "outputs": [],
   "source": [
    "# this could be a good dataset to explore the hierarchical topic modeling bonus material...\n",
    "topic_model.hierarchical_topics?"
   ]
  },
  {
   "cell_type": "code",
   "execution_count": null,
   "id": "52c878b6",
   "metadata": {},
   "outputs": [],
   "source": [
    "# define the linkage function and run the model\n",
    "from scipy.cluster import hierarchy as sch\n",
    "linkage_function = lambda x: sch.linkage(x, 'single', optimal_ordering=True)\n",
    "hierarchical_topics = topic_model.hierarchical_topics(docs, linkage_function=linkage_function)"
   ]
  },
  {
   "cell_type": "code",
   "execution_count": null,
   "id": "cc3cbfbe",
   "metadata": {},
   "outputs": [],
   "source": [
    "# visualize the results\n",
    "topic_model.visualize_hierarchy(hierarchical_topics=hierarchical_topics)"
   ]
  },
  {
   "cell_type": "code",
   "execution_count": null,
   "id": "11e88ea0",
   "metadata": {},
   "outputs": [],
   "source": [
    "# print the tree\n",
    "tree = topic_model.get_topic_tree(hierarchical_topics)\n",
    "print(tree)"
   ]
  }
 ],
 "metadata": {
  "kernelspec": {
   "display_name": "Python 3",
   "language": "python",
   "name": "python3"
  },
  "language_info": {
   "codemirror_mode": {
    "name": "ipython",
    "version": 3
   },
   "file_extension": ".py",
   "mimetype": "text/x-python",
   "name": "python",
   "nbconvert_exporter": "python",
   "pygments_lexer": "ipython3",
   "version": "3.12.11"
  }
 },
 "nbformat": 4,
 "nbformat_minor": 5
}
